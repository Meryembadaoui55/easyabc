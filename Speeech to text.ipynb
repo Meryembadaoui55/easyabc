{
 "cells": [
  {
   "cell_type": "code",
   "execution_count": 10,
   "id": "7a77cf42",
   "metadata": {},
   "outputs": [],
   "source": [
    "import pyttsx3\n",
    "\n",
    "engine = pyttsx3.init()\n",
    "\n",
    "# Set the voice\n",
    "voices = engine.getProperty('voices')\n",
    "engine.setProperty('voice', voices[0].id)\n",
    "\n",
    "# Set the volume\n",
    "volume = engine.getProperty('volume')\n",
    "engine.setProperty('volume', 10.0)\n",
    "\n",
    "# Set the speech rate\n",
    "rate = engine.getProperty('rate')\n",
    "engine.setProperty('rate', rate-50)\n",
    "\n",
    "# Say a message\n",
    "engine.say(\"Easy A B C today a reader tomo\")\n",
    "\n",
    "# Start the engine\n",
    "engine.runAndWait()"
   ]
  },
  {
   "cell_type": "code",
   "execution_count": 12,
   "id": "c6d83339",
   "metadata": {},
   "outputs": [
    {
     "name": "stdout",
     "output_type": "stream",
     "text": [
      "Talk\n",
      "Time over, thanks\n",
      "result2:\n",
      "[]\n",
      "Sorry, I did not get that\n"
     ]
    }
   ],
   "source": [
    "import speech_recognition as sr\n",
    "\n",
    "# Initialize recognizer class (for recognizing the speech)\n",
    "r = sr.Recognizer()\n",
    "\n",
    "# Reading Microphone as source\n",
    "# listening the speech and store in audio_text variable\n",
    "with sr.Microphone() as source:\n",
    "    print(\"Talk\")\n",
    "    audio_text = r.listen(source)\n",
    "    print(\"Time over, thanks\")\n",
    "    \n",
    "# recoginize_() method will throw a request error if the API is unreachable, hence using exception handling\n",
    "try:\n",
    "    # using google speech recognition\n",
    "    print(\"Text: \"+r.recognize_google(audio_text))\n",
    "except:\n",
    "    print(\"Sorry, I did not get that\")\n"
   ]
  },
  {
   "cell_type": "code",
   "execution_count": null,
   "id": "2c70e26b",
   "metadata": {},
   "outputs": [],
   "source": []
  }
 ],
 "metadata": {
  "kernelspec": {
   "display_name": "Python 3 (ipykernel)",
   "language": "python",
   "name": "python3"
  },
  "language_info": {
   "codemirror_mode": {
    "name": "ipython",
    "version": 3
   },
   "file_extension": ".py",
   "mimetype": "text/x-python",
   "name": "python",
   "nbconvert_exporter": "python",
   "pygments_lexer": "ipython3",
   "version": "3.9.12"
  }
 },
 "nbformat": 4,
 "nbformat_minor": 5
}
